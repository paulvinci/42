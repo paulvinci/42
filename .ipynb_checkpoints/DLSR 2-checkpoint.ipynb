{
 "cells": [
  {
   "cell_type": "markdown",
   "metadata": {},
   "source": [
    "<h1><center>DLSR Project</center></h1>"
   ]
  },
  {
   "cell_type": "markdown",
   "metadata": {},
   "source": [
    "## 1. Database import functions"
   ]
  },
  {
   "cell_type": "code",
   "execution_count": 4,
   "metadata": {},
   "outputs": [],
   "source": [
    "import csv\n",
    "\n",
    "#Fonction load_csv\n",
    "def load_csv(filename): #importe un csv et le stocke dans un objet liste\n",
    "    file = open(filename,'r')\n",
    "    readfile = list(csv.reader(file,delimiter=','))\n",
    "    return readfile\n",
    "\n",
    "\n",
    "#Fonction transposée \n",
    "def reverse_data(data): #retourne la transposée matricielle de la base de donnée\n",
    "    l = [[] for _ in range(len(data[0]))]\n",
    "    for x in range(len(l)):\n",
    "        for y in range(len(data)):\n",
    "            l[x].append(data[y][x])\n",
    "    return l\n",
    "            \n",
    "#mapping de 'int' et 'float' pour les features chiffrées\n",
    "def float_map(data):\n",
    "    for x in range(1,len(data[0])): #on gère les index en int\n",
    "        try:\n",
    "            data[0][x]=int(data[0][x])\n",
    "        except:\n",
    "            continue\n",
    "    for feature in data[1:]: \n",
    "        for x in range(1,len(feature)):\n",
    "            try:\n",
    "                feature[x]=float(feature[x])\n",
    "            except:\n",
    "                continue\n",
    "\n",
    "    \n"
   ]
  },
  {
   "cell_type": "markdown",
   "metadata": {},
   "source": [
    "## 2. Describe function"
   ]
  },
  {
   "cell_type": "markdown",
   "metadata": {},
   "source": [
    "### 2.1 Calculation functions"
   ]
  },
  {
   "cell_type": "code",
   "execution_count": 5,
   "metadata": {},
   "outputs": [],
   "source": [
    "#Fonction Min\n",
    "def min(x):\n",
    "    mini = x[1] #On considere le premiere element de la liste comme etant le minimum\n",
    "    for i in x[1:]: #Pour chaque i dans la liste \n",
    "        if i < mini:\n",
    "            mini = i  #Alors on redefinit le minimum\n",
    "    return mini\n",
    "\n",
    "#Fonction Max\n",
    "def max(x):\n",
    "    maxi = x[1] #On considere le premiere element de la liste comme etant le maximum\n",
    "    for i in x[0:]: #Pour chaque i dans la liste \n",
    "        if i > maxi:\n",
    "            maxi = i  #Alors on redefinit le maximum\n",
    "    return maxi\n",
    "\n",
    "#Fonction 25%\n",
    "def vingtcinq(x):\n",
    "    mini= min(x)\n",
    "    maxi= max(x)\n",
    "    vingtcinq = mini + ( maxi - mini )/4\n",
    "    return vingtcinq\n",
    "\n",
    "#Fonction 50%\n",
    "def cinquante(x):\n",
    "    mini= min(x)\n",
    "    maxi= max(x)\n",
    "    cinquante = ( maxi + mini )/2\n",
    "    return cinquante\n",
    "\n",
    "#Fonction 75%\n",
    "def soixantequinze(x):\n",
    "    mini= min(x)\n",
    "    maxi= max(x)\n",
    "    soixantequinze = mini + 3*( maxi - mini )/4\n",
    "    return soixantequinze\n",
    "\n",
    "#Fonction Mean\n",
    "def mean(x):\n",
    "    s = 0\n",
    "    for i in x:\n",
    "       s += i\n",
    "       meani = s/len(x[1:])\n",
    "    return meani\n",
    "\n",
    "#Fonction Sqrt\n",
    "def sqrt(x):\n",
    "    last_guess= x/2\n",
    "    while True:\n",
    "        guess= (last_guess + x/last_guess)/2\n",
    "        if abs(guess - last_guess) < .000001: # example threshold\n",
    "            return guess\n",
    "        last_guess= guess\n",
    "        \n",
    "#Fonction std\n",
    "def std(x):\n",
    "    u = 0\n",
    "    for i in x:\n",
    "        u += (i - mean(x))*(i - mean(x))\n",
    "        std = sqrt(u/len(x))\n",
    "    return std"
   ]
  },
  {
   "cell_type": "markdown",
   "metadata": {},
   "source": [
    "### 2.2 Describe function"
   ]
  },
  {
   "cell_type": "code",
   "execution_count": 6,
   "metadata": {},
   "outputs": [],
   "source": []
  },
  {
   "cell_type": "markdown",
   "metadata": {},
   "source": [
    "## Exploring Dataset"
   ]
  },
  {
   "cell_type": "code",
   "execution_count": 53,
   "metadata": {},
   "outputs": [
    {
     "name": "stdout",
     "output_type": "stream",
     "text": [
      "Train size : 1600\n",
      "Number of features : 18\n"
     ]
    }
   ],
   "source": [
    "db = reverse_data(load_csv('/Users/cparramo/Documents/DSLR/resources/dataset_train.csv'))\n",
    "float_map(db)\n",
    "\n",
    "print('Train size :',len(db[0])-1)\n",
    "print('Number of features :',len(db)-1)"
   ]
  },
  {
   "cell_type": "code",
   "execution_count": 54,
   "metadata": {},
   "outputs": [],
   "source": [
    "db_short = db\n",
    "del db_short[2] #On enleve la colonne 2\n",
    "del db_short[2] #On enleve la colonne 3 qui s est decallee a la 2e place suite a la ligne du dessus\n",
    "del db_short[2] #etc ..\n",
    "del db_short[2]\n",
    "#print(len(db_short)-1)\n",
    "#print(db_short)\n",
    "\n",
    "db_short = reverse_data(db) # je retrouve les 1600 listes pour les transformer en 4 listes\n",
    "#print(db_short)"
   ]
  },
  {
   "cell_type": "code",
   "execution_count": 8,
   "metadata": {},
   "outputs": [],
   "source": [
    "def histogram (x):\n",
    "    Raven = [0]\n",
    "    Slyth = [0]\n",
    "    Gryff = [0]\n",
    "    Huffl = [0]\n",
    "    Col3 = [0]\n",
    "    Col4 = [0]\n",
    "    Col5 = [0]\n",
    "    Col6 = [0]\n",
    "    \n",
    "    for i in x:\n",
    "        for j in len(x)-2: #je ne prends pas en compte Index et Maison\n",
    "        if x[1] = \"Ravenclaw\" ;\n",
    "            \n",
    "        \n",
    "        elif x[1] = \"Slytherin\" :\n",
    "            \n",
    "        \n",
    "        elif x[1] = \"Gryffindor\" :\n",
    "            \n",
    "        \n",
    "        elif x[1] = \"Hufflepuff\" :\n",
    "            \n",
    "            \n",
    "        "
   ]
  },
  {
   "cell_type": "code",
   "execution_count": null,
   "metadata": {},
   "outputs": [],
   "source": []
  },
  {
   "cell_type": "markdown",
   "metadata": {},
   "source": [
    "## Logistic Regression"
   ]
  },
  {
   "cell_type": "markdown",
   "metadata": {},
   "source": [
    "### 4.1 Source code"
   ]
  },
  {
   "cell_type": "code",
   "execution_count": null,
   "metadata": {},
   "outputs": [],
   "source": []
  }
 ],
 "metadata": {
  "kernelspec": {
   "display_name": "Python 3",
   "language": "python",
   "name": "python3"
  },
  "language_info": {
   "codemirror_mode": {
    "name": "ipython",
    "version": 3
   },
   "file_extension": ".py",
   "mimetype": "text/x-python",
   "name": "python",
   "nbconvert_exporter": "python",
   "pygments_lexer": "ipython3",
   "version": "3.6.5"
  }
 },
 "nbformat": 4,
 "nbformat_minor": 1
}
